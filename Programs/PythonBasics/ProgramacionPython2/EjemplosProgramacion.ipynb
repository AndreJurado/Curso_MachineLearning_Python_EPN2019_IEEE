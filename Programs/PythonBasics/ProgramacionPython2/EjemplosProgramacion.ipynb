{
 "cells": [
  {
   "cell_type": "markdown",
   "metadata": {
    "collapsed": true,
    "pycharm": {
     "name": "#%% md\n"
    }
   },
   "source": [
    "# Bienvenidos\n",
    "Este **cuaderno** revisa sus *dudas*\n",
    "de programación con **python**\n",
    "\n",
    "Declaración de Listas"
   ]
  },
  {
   "cell_type": "code",
   "source": [
    "vector_a = [1.2, 2.2, 3.3, 4.4]\n",
    "lista_nombres_fem = ['kath', 'andrea', 'diana']\n",
    "lista_nombres_mas = ['jose', 'freddy', 'herny']\n",
    "lista_vacia = []"
   ],
   "metadata": {
    "collapsed": false,
    "pycharm": {
     "name": "#%% \n",
     "is_executing": false
    }
   },
   "execution_count": 70,
   "outputs": []
  },
  {
   "cell_type": "markdown",
   "source": [
    "Unir la lista de nombres femeninos con la de\n",
    "masculinos:"
   ],
   "metadata": {
    "collapsed": false,
    "pycharm": {
     "name": "#%% md\n"
    }
   }
  },
  {
   "cell_type": "code",
   "execution_count": 71,
   "outputs": [
    {
     "data": {
      "text/plain": "[['kath', 'andrea', 'diana'], ['jose', 'freddy', 'herny']]"
     },
     "metadata": {},
     "output_type": "execute_result",
     "execution_count": 71
    }
   ],
   "source": [
    "lista_estudiantes = []\n",
    "lista_estudiantes.append(lista_nombres_fem)\n",
    "lista_estudiantes.append(lista_nombres_mas)\n",
    "lista_estudiantes\n",
    "\n",
    "\n"
   ],
   "metadata": {
    "collapsed": false,
    "pycharm": {
     "name": "#%%\n",
     "is_executing": false
    }
   }
  },
  {
   "cell_type": "markdown",
   "source": [
    "Deseo una lista solo con los nombres.\n",
    "Voy a utilizar un lazo **for**\n"
   ],
   "metadata": {
    "collapsed": false
   }
  },
  {
   "cell_type": "code",
   "execution_count": 72,
   "outputs": [
    {
     "data": {
      "text/plain": "['kath', 'andrea', 'diana']"
     },
     "metadata": {},
     "output_type": "execute_result",
     "execution_count": 72
    }
   ],
   "source": [
    "nueva_lista = []\n",
    "for chica in lista_nombres_fem:\n",
    "    nueva_lista.append(chica)\n",
    "    \n",
    "nueva_lista\n"
   ],
   "metadata": {
    "collapsed": false,
    "pycharm": {
     "name": "#%%\n",
     "is_executing": false
    }
   }
  },
  {
   "cell_type": "code",
   "execution_count": 73,
   "outputs": [
    {
     "data": {
      "text/plain": "['kath', 'andrea', 'diana', 'jose', 'freddy', 'herny']"
     },
     "metadata": {},
     "output_type": "execute_result",
     "execution_count": 73
    }
   ],
   "source": [
    "for chico in lista_nombres_mas:\n",
    "    nueva_lista.append(chico)\n",
    "    \n",
    "nueva_lista\n"
   ],
   "metadata": {
    "collapsed": false,
    "pycharm": {
     "name": "#%%\n",
     "is_executing": false
    }
   }
  },
  {
   "cell_type": "code",
   "execution_count": 74,
   "outputs": [
    {
     "data": {
      "text/plain": "['kath', 'andrea', 'diana', 'jose', 'freddy', 'herny']"
     },
     "metadata": {},
     "output_type": "execute_result",
     "execution_count": 74
    }
   ],
   "source": [
    "nueva_lista_2 = lista_nombres_fem+lista_nombres_mas\n",
    "nueva_lista_2\n",
    "\n"
   ],
   "metadata": {
    "collapsed": false,
    "pycharm": {
     "name": "#%%\n",
     "is_executing": false
    }
   }
  },
  {
   "cell_type": "markdown",
   "source": [
    " Sumar dos arreglos de longitud $n$.\n",
    " Sea $A = <a_{1}, a_{2}, \\dots, a_{n}>$ \n",
    " Sea $B = <b_{1}, b_{2}, \\dots, b_{n}>$\n",
    "\n"
   ],
   "metadata": {
    "collapsed": false
   }
  },
  {
   "cell_type": "code",
   "execution_count": 75,
   "outputs": [
    {
     "data": {
      "text/plain": "array([6, 1, 3, 4, 0, 5, 0, 6, 8])"
     },
     "metadata": {},
     "output_type": "execute_result",
     "execution_count": 75
    }
   ],
   "source": [
    "import numpy as np\n",
    "n = 9\n",
    "A = np.random.randint(low=0, high=n, size=n, dtype=np.int)\n",
    "A"
   ],
   "metadata": {
    "collapsed": false,
    "pycharm": {
     "name": "#%%\n",
     "is_executing": false
    }
   }
  },
  {
   "cell_type": "code",
   "execution_count": 76,
   "outputs": [
    {
     "data": {
      "text/plain": "array([6, 6, 2, 4, 0, 6, 8, 7, 4])"
     },
     "metadata": {},
     "output_type": "execute_result",
     "execution_count": 76
    }
   ],
   "source": [
    "B = np.random.randint(low=0, high=n, size=n, dtype=np.int)\n",
    "B\n"
   ],
   "metadata": {
    "collapsed": false,
    "pycharm": {
     "name": "#%%\n",
     "is_executing": false
    }
   }
  },
  {
   "cell_type": "markdown",
   "source": [
    "$C = A + B$"
   ],
   "metadata": {
    "collapsed": false
   }
  },
  {
   "cell_type": "code",
   "execution_count": 77,
   "outputs": [
    {
     "data": {
      "text/plain": "array([12,  7,  5,  8,  0, 11,  8, 13, 12])"
     },
     "metadata": {},
     "output_type": "execute_result",
     "execution_count": 77
    }
   ],
   "source": [
    "C = A+B\n",
    "C"
   ],
   "metadata": {
    "collapsed": false,
    "pycharm": {
     "name": "#%%\n",
     "is_executing": false
    }
   }
  },
  {
   "cell_type": "markdown",
   "source": [
    "Que pasa si el arreglo no es de tipo numpy?"
   ],
   "metadata": {
    "collapsed": false
   }
  },
  {
   "cell_type": "code",
   "execution_count": 78,
   "outputs": [
    {
     "data": {
      "text/plain": "[1, 2, 'lenin', 4, 1, 2, 4, 'holamundo']"
     },
     "metadata": {},
     "output_type": "execute_result",
     "execution_count": 78
    }
   ],
   "source": [
    "a = [1, 2, 'lenin', 4]\n",
    "b = [1, 2, 4, 'holamundo']\n",
    "c = a+b\n",
    "c\n",
    "\n"
   ],
   "metadata": {
    "collapsed": false,
    "pycharm": {
     "name": "#%%\n",
     "is_executing": false
    }
   }
  },
  {
   "cell_type": "markdown",
   "source": [
    "Se desea un programa que ordene los arreglos A y B\n",
    "* Bubble Sort\n",
    "* Insertion Sort\n",
    "## Bubble Sort \n",
    "Tarea"
   ],
   "metadata": {
    "collapsed": false
   }
  },
  {
   "cell_type": "code",
   "source": [
    "## Insertion Sort"
   ],
   "metadata": {
    "collapsed": false,
    "pycharm": {
     "name": "#%% md \n",
     "is_executing": false
    }
   },
   "execution_count": 79,
   "outputs": []
  },
  {
   "cell_type": "code",
   "execution_count": 80,
   "outputs": [],
   "source": [
    "def insertion_sort(arreglo):\n",
    "    for i in range(1, len(arreglo)):\n",
    "        key = arreglo[i]\n",
    "        j = i-1\n",
    "        while j>=0 and arreglo[j] > key:\n",
    "            arreglo[j+1] = arreglo[j]\n",
    "            j-=1\n",
    "        arreglo[j+1] = key\n",
    "    # print(i)\n",
    "    return arreglo\n",
    "        "
   ],
   "metadata": {
    "collapsed": false,
    "pycharm": {
     "name": "#%%\n",
     "is_executing": false
    }
   }
  },
  {
   "cell_type": "markdown",
   "source": [
    "Ejecución de la función **insertion_sort()**"
   ],
   "metadata": {
    "collapsed": false,
    "pycharm": {
     "name": "#%% md\n"
    }
   }
  },
  {
   "cell_type": "code",
   "execution_count": 81,
   "outputs": [
    {
     "data": {
      "text/plain": "array([0, 0, 1, 3, 4, 5, 6, 6, 8])"
     },
     "metadata": {},
     "output_type": "execute_result",
     "execution_count": 81
    }
   ],
   "source": [
    "A_ordenado = insertion_sort(A)\n",
    "A_ordenado"
   ],
   "metadata": {
    "collapsed": false,
    "pycharm": {
     "name": "#%%\n",
     "is_executing": false
    }
   }
  },
  {
   "cell_type": "markdown",
   "source": [
    "Requiero un programa que me permita ingresar\n",
    "$n$ digitos por el usuario. \n",
    "* Si el usuario\n",
    "ingreso algo que no es un nùmero, repetir.\n",
    "\n",
    "* Si el usuario ingresa un numero, continuar."
   ],
   "metadata": {
    "collapsed": false,
    "pycharm": {
     "name": "#%% md\n"
    }
   }
  },
  {
   "cell_type": "code",
   "execution_count": 92,
   "outputs": [
    {
     "name": "stdout",
     "text": [
      "estoy en except porque ingresaste 5\n5\n",
      "estoy en except porque ingresaste 5\n5\n",
      "estoy en except porque ingresaste 5\n5\n",
      "estoy en except porque ingresaste 5\n5\n",
      "estoy en except porque ingresaste 5\n5\n",
      "estoy en except porque ingresaste 5\n5\n",
      "5\n"
     ],
     "output_type": "stream"
    },
    {
     "data": {
      "text/plain": "[5, 5, 54, 5, 5]"
     },
     "metadata": {},
     "output_type": "execute_result",
     "execution_count": 92
    }
   ],
   "source": [
    "check = True\n",
    "while check:\n",
    "    try:\n",
    "        num_elementos = int(input())\n",
    "        check = False\n",
    "    except ValueError:\n",
    "        # No ingreso el valor correcto\n",
    "        # num_elementos = int(input())\n",
    "        print('estoy en except porque ingresaste {}'.format(num_elementos))\n",
    "        check = True\n",
    "    \n",
    "    print(num_elementos)\n",
    "    lista_num.append(x)\n",
    "lista_num\n",
    "    \n",
    "lista_num = []\n",
    "for i in range(num_elementos):\n",
    "    x = int(input())"
   ],
   "metadata": {
    "collapsed": false,
    "pycharm": {
     "name": "#%%\n",
     "is_executing": false
    }
   }
  }
 ],
 "metadata": {
  "language_info": {
   "codemirror_mode": {
    "name": "ipython",
    "version": 2
   },
   "file_extension": ".py",
   "mimetype": "text/x-python",
   "name": "python",
   "nbconvert_exporter": "python",
   "pygments_lexer": "ipython2",
   "version": "2.7.6"
  },
  "kernelspec": {
   "name": "python3",
   "language": "python",
   "display_name": "Python 3"
  },
  "pycharm": {
   "stem_cell": {
    "cell_type": "raw",
    "source": [],
    "metadata": {
     "collapsed": false
    }
   }
  }
 },
 "nbformat": 4,
 "nbformat_minor": 0
}